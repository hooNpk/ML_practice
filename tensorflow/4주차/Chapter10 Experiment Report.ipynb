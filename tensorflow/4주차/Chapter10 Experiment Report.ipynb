{
 "cells": [
  {
   "cell_type": "markdown",
   "metadata": {},
   "source": [
    "# 2016313844 Jeonghoon Park\n",
    "\n",
    "### Google Colab\n",
    "- Install and How to use it\n",
    "- Upload the data files on the Google Drive\n",
    "\n",
    "- Hard coding on MLP model for predicting MNIST data on Colab environment\n"
   ]
  }
 ],
 "metadata": {
  "kernelspec": {
   "display_name": "machinelearning",
   "language": "python",
   "name": "machinelearning"
  },
  "language_info": {
   "codemirror_mode": {
    "name": "ipython",
    "version": 3
   },
   "file_extension": ".py",
   "mimetype": "text/x-python",
   "name": "python",
   "nbconvert_exporter": "python",
   "pygments_lexer": "ipython3",
   "version": "3.7.7"
  }
 },
 "nbformat": 4,
 "nbformat_minor": 4
}
