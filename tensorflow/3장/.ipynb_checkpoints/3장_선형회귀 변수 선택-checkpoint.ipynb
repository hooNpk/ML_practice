{
 "cells": [
  {
   "cell_type": "code",
   "execution_count": 1,
   "metadata": {},
   "outputs": [],
   "source": [
    "from sklearn.linear_model import LinearRegression\n",
    "import pandas as pd\n",
    "import numpy as np\n",
    "from matplotlib import pyplot as plt\n",
    "from sklearn.linear_model import Ridge, Lasso"
   ]
  },
  {
   "cell_type": "code",
   "execution_count": 2,
   "metadata": {},
   "outputs": [
    {
     "name": "stdout",
     "output_type": "stream",
     "text": [
      "       MedInc  HouseAge  AveRooms  AveBedrms  Population  AveOccup  Latitude  \\\n",
      "0      8.3252      41.0  6.984127   1.023810       322.0  2.555556     37.88   \n",
      "1      8.3014      21.0  6.238137   0.971880      2401.0  2.109842     37.86   \n",
      "2      7.2574      52.0  8.288136   1.073446       496.0  2.802260     37.85   \n",
      "3      5.6431      52.0  5.817352   1.073059       558.0  2.547945     37.85   \n",
      "4      3.8462      52.0  6.281853   1.081081       565.0  2.181467     37.85   \n",
      "5      4.0368      52.0  4.761658   1.103627       413.0  2.139896     37.85   \n",
      "6      3.6591      52.0  4.931907   0.951362      1094.0  2.128405     37.84   \n",
      "7      3.1200      52.0  4.797527   1.061824      1157.0  1.788253     37.84   \n",
      "8      2.0804      42.0  4.294118   1.117647      1206.0  2.026891     37.84   \n",
      "9      3.6912      52.0  4.970588   0.990196      1551.0  2.172269     37.84   \n",
      "10     3.2031      52.0  5.477612   1.079602       910.0  2.263682     37.85   \n",
      "11     3.2705      52.0  4.772480   1.024523      1504.0  2.049046     37.85   \n",
      "12     3.0750      52.0  5.322650   1.012821      1098.0  2.346154     37.85   \n",
      "13     2.6736      52.0  4.000000   1.097701       345.0  1.982759     37.84   \n",
      "14     1.9167      52.0  4.262903   1.009677      1212.0  1.954839     37.85   \n",
      "15     2.1250      50.0  4.242424   1.071970       697.0  2.640152     37.85   \n",
      "16     2.7750      52.0  5.939577   1.048338       793.0  2.395770     37.85   \n",
      "17     2.1202      52.0  4.052805   0.966997       648.0  2.138614     37.85   \n",
      "18     1.9911      50.0  5.343675   1.085919       990.0  2.362768     37.84   \n",
      "19     2.6033      52.0  5.465455   1.083636       690.0  2.509091     37.84   \n",
      "20     1.3578      40.0  4.524096   1.108434       409.0  2.463855     37.85   \n",
      "21     1.7135      42.0  4.478142   1.002732       929.0  2.538251     37.85   \n",
      "22     1.7250      52.0  5.096234   1.131799      1015.0  2.123431     37.84   \n",
      "23     2.1806      52.0  5.193846   1.036923       853.0  2.624615     37.84   \n",
      "24     2.6000      52.0  5.270142   1.035545      1006.0  2.383886     37.84   \n",
      "25     2.4038      41.0  4.495798   1.033613       317.0  2.663866     37.85   \n",
      "26     2.4597      49.0  4.728033   1.020921       607.0  2.539749     37.85   \n",
      "27     1.8080      52.0  4.780856   1.060453      1102.0  2.775819     37.85   \n",
      "28     1.6424      50.0  4.401691   1.040169      1131.0  2.391121     37.84   \n",
      "29     1.6875      52.0  4.703226   1.032258       395.0  2.548387     37.84   \n",
      "...       ...       ...       ...        ...         ...       ...       ...   \n",
      "20610  1.3631      28.0  4.851936   1.102506      1195.0  2.722096     39.10   \n",
      "20611  1.2857      27.0  4.359413   1.078240      1163.0  2.843521     39.10   \n",
      "20612  1.4934      26.0  5.157303   1.082397       761.0  2.850187     39.08   \n",
      "20613  1.4958      31.0  4.500000   0.950521      1167.0  3.039062     39.09   \n",
      "20614  2.4695      26.0  4.801688   0.970464      1455.0  3.069620     39.08   \n",
      "20615  2.3598      23.0  5.461929   1.096447       724.0  3.675127     39.08   \n",
      "20616  2.0469      15.0  4.826667   1.176000      1157.0  3.085333     39.08   \n",
      "20617  3.3021      20.0  4.921053   0.956140       308.0  2.701754     39.06   \n",
      "20618  2.2500      25.0  5.893805   1.092920       726.0  3.212389     39.06   \n",
      "20619  2.7303      22.0  6.388514   1.148649      1023.0  3.456081     39.01   \n",
      "20620  4.5625      40.0  4.125000   0.854167       151.0  3.145833     39.05   \n",
      "20621  2.3661      37.0  7.923567   1.573248       484.0  3.082803     39.01   \n",
      "20622  2.4167      20.0  4.808917   0.936306       457.0  2.910828     39.00   \n",
      "20623  2.8235      32.0  5.101322   1.074890       598.0  2.634361     39.03   \n",
      "20624  3.0739      16.0  5.835052   1.030928       731.0  2.512027     39.04   \n",
      "20625  4.1250      37.0  7.285714   1.214286        29.0  2.071429     39.12   \n",
      "20626  2.1667      36.0  6.573099   1.076023       504.0  2.947368     39.18   \n",
      "20627  3.0000       5.0  6.067797   1.101695       169.0  2.864407     39.13   \n",
      "20628  2.5952      19.0  5.238462   1.079487      1018.0  2.610256     39.10   \n",
      "20629  2.0943      28.0  5.519802   1.020902      6912.0  3.801980     39.12   \n",
      "20630  3.5673      11.0  5.932584   1.134831      1257.0  2.824719     39.29   \n",
      "20631  3.5179      15.0  6.145833   1.141204      1200.0  2.777778     39.33   \n",
      "20632  3.1250      15.0  6.023377   1.080519      1047.0  2.719481     39.26   \n",
      "20633  2.5495      27.0  5.445026   1.078534      1082.0  2.832461     39.19   \n",
      "20634  3.7125      28.0  6.779070   1.148256      1041.0  3.026163     39.27   \n",
      "20635  1.5603      25.0  5.045455   1.133333       845.0  2.560606     39.48   \n",
      "20636  2.5568      18.0  6.114035   1.315789       356.0  3.122807     39.49   \n",
      "20637  1.7000      17.0  5.205543   1.120092      1007.0  2.325635     39.43   \n",
      "20638  1.8672      18.0  5.329513   1.171920       741.0  2.123209     39.43   \n",
      "20639  2.3886      16.0  5.254717   1.162264      1387.0  2.616981     39.37   \n",
      "\n",
      "       Longitude  \n",
      "0        -122.23  \n",
      "1        -122.22  \n",
      "2        -122.24  \n",
      "3        -122.25  \n",
      "4        -122.25  \n",
      "5        -122.25  \n",
      "6        -122.25  \n",
      "7        -122.25  \n",
      "8        -122.26  \n",
      "9        -122.25  \n",
      "10       -122.26  \n",
      "11       -122.26  \n",
      "12       -122.26  \n",
      "13       -122.26  \n",
      "14       -122.26  \n",
      "15       -122.26  \n",
      "16       -122.27  \n",
      "17       -122.27  \n",
      "18       -122.26  \n",
      "19       -122.27  \n",
      "20       -122.27  \n",
      "21       -122.27  \n",
      "22       -122.27  \n",
      "23       -122.27  \n",
      "24       -122.27  \n",
      "25       -122.28  \n",
      "26       -122.28  \n",
      "27       -122.28  \n",
      "28       -122.28  \n",
      "29       -122.28  \n",
      "...          ...  \n",
      "20610    -121.56  \n",
      "20611    -121.55  \n",
      "20612    -121.56  \n",
      "20613    -121.55  \n",
      "20614    -121.54  \n",
      "20615    -121.54  \n",
      "20616    -121.53  \n",
      "20617    -121.53  \n",
      "20618    -121.55  \n",
      "20619    -121.56  \n",
      "20620    -121.48  \n",
      "20621    -121.47  \n",
      "20622    -121.44  \n",
      "20623    -121.37  \n",
      "20624    -121.41  \n",
      "20625    -121.52  \n",
      "20626    -121.43  \n",
      "20627    -121.32  \n",
      "20628    -121.48  \n",
      "20629    -121.39  \n",
      "20630    -121.32  \n",
      "20631    -121.40  \n",
      "20632    -121.45  \n",
      "20633    -121.53  \n",
      "20634    -121.56  \n",
      "20635    -121.09  \n",
      "20636    -121.21  \n",
      "20637    -121.22  \n",
      "20638    -121.32  \n",
      "20639    -121.24  \n",
      "\n",
      "[20640 rows x 8 columns]\n"
     ]
    }
   ],
   "source": [
    "from sklearn.datasets import fetch_california_housing\n",
    "\n",
    "california = fetch_california_housing()\n",
    "X=california.data\n",
    "DF=pd.DataFrame(X,columns=california.feature_names)\n",
    "Y=california.target\n",
    "print(DF)"
   ]
  },
  {
   "cell_type": "code",
   "execution_count": 3,
   "metadata": {},
   "outputs": [
    {
     "name": "stdout",
     "output_type": "stream",
     "text": [
      "['MedInc', 'HouseAge', 'Latitude', 'Longitude', 'AveBedrms', 'AveRooms', 'AveOccup']\n"
     ]
    }
   ],
   "source": [
    "'''\n",
    "코드 실행 전에 아나콘다 프롬프트에서 'machinelearning' 가상환경을 활성화시킨 후 'conda install statsmodels'로 \n",
    "통계량 계산 라이브러리(패키지)를 설치해야한다.\n",
    "\n",
    "''' \n",
    "import statsmodels.api as sm\n",
    "\n",
    "#forward selection 함수 정의: 입력변수를 하나씩 추가하면서 최소 p-value가 기준값인 cutoff-value보다 큰 변수가 나올 때까지 반복한다.\n",
    "#함수의 인자로 있는 cutoff 매개변수 값을 조절하면서 학습하면 된다.\n",
    "def forward_selection(data,target,cutoff=0.05):\n",
    "    initial_features = data.columns.tolist()\n",
    "    best_features = []\n",
    "    while(len(initial_features)>0):\n",
    "        remaining_features = list(set(initial_features)-set(best_features))\n",
    "        new_pval = pd.Series(index=remaining_features)\n",
    "        for new_column in remaining_features:\n",
    "            model = sm.OLS(target, sm.add_constant(data[best_features+[new_column]])).fit()\n",
    "            new_pval[new_column] = model.pvalues[new_column]\n",
    "        min_p_value = new_pval.min()\n",
    "        if(min_p_value < cutoff):\n",
    "            best_features.append(new_pval.idxmin())\n",
    "        else:\n",
    "            break\n",
    "    return best_features\n",
    "forwarddata=forward_selection(DF,Y,0.01)\n",
    "print(forwarddata)"
   ]
  },
  {
   "cell_type": "code",
   "execution_count": 4,
   "metadata": {},
   "outputs": [
    {
     "name": "stdout",
     "output_type": "stream",
     "text": [
      "['MedInc', 'HouseAge', 'AveRooms', 'AveBedrms', 'AveOccup', 'Latitude', 'Longitude']\n"
     ]
    }
   ],
   "source": [
    "#backward elimination 함수 정의: full model에서 입력변수를 하나씩 제거하면서 남아 있는 모든 입력변수 중 쵀대 p-value가 cutoff-value보다 낮아질 때까지 반복한다. \n",
    "#함수의 인자로 있는 cutoff 매개변수 값을 조절하면서 학습하면 된다.\n",
    "def backward_elimination(data, target, cutoff= 0.05):\n",
    "    features = data.columns.tolist()\n",
    "    while(len(features) > 0):\n",
    "        features_with_constant = sm.add_constant(data[features])\n",
    "        p_values = sm.OLS(target, features_with_constant).fit().pvalues[1:]\n",
    "        max_p_value = p_values.max()\n",
    "        if(max_p_value >= cutoff):\n",
    "            excluded_feature=p_values.idxmax()\n",
    "            features.remove(excluded_feature)\n",
    "        else:\n",
    "            break\n",
    "    return features\n",
    "\n",
    "backwarddata=backward_elimination(DF,Y,0.01)\n",
    "print(backwarddata)"
   ]
  },
  {
   "cell_type": "code",
   "execution_count": 5,
   "metadata": {},
   "outputs": [
    {
     "name": "stdout",
     "output_type": "stream",
     "text": [
      "['MedInc', 'HouseAge', 'Latitude', 'Longitude', 'AveBedrms', 'AveRooms', 'AveOccup']\n"
     ]
    }
   ],
   "source": [
    "#stepwise selection 함수 정의: 위의 두 함수의 원리를 결합한 형태로 반복한다.\n",
    "#함수의 인자로 있는 cutoff 매개변수 값을 조절하면서 학습하면 된다.\n",
    "def stepwise_selection(data,target,cutoff):\n",
    "    initial_features = data.columns.tolist()\n",
    "    best_features = []\n",
    "    while(len(initial_features) > 0):\n",
    "        remaining_features = list(set(initial_features)-set(best_features))\n",
    "        new_pval = pd.Series(index=remaining_features)\n",
    "        for new_column in remaining_features:\n",
    "            model = sm.OLS(target, sm.add_constant(data[best_features+[new_column]])).fit()\n",
    "            new_pval[new_column] = model.pvalues[new_column]\n",
    "        min_p_value = new_pval.min()\n",
    "        if(min_p_value < cutoff):\n",
    "            best_features.append(new_pval.idxmin())\n",
    "            while(len(best_features) > 0):\n",
    "                best_features_with_constant = sm.add_constant(data[best_features])\n",
    "                p_values = sm.OLS(target, best_features_with_constant).fit().pvalues[1:]\n",
    "                max_p_value = p_values.max()\n",
    "                if(max_p_value >= cutoff):\n",
    "                    excluded_feature=p_values.idxmax()\n",
    "                    best_features.remove(excluded_feature)\n",
    "                else:\n",
    "                    break\n",
    "        else:\n",
    "            break\n",
    "    return best_features\n",
    "\n",
    "stepdata=stepwise_selection(DF,Y,0.01)\n",
    "print(stepdata)"
   ]
  },
  {
   "cell_type": "code",
   "execution_count": 6,
   "metadata": {},
   "outputs": [
    {
     "name": "stderr",
     "output_type": "stream",
     "text": [
      "No handles with labels found to put in legend.\n"
     ]
    },
    {
     "data": {
      "image/png": "[encoded data removed]",
      "text/plain": [
       "<Figure size 432x288 with 1 Axes>"
      ]
     },
     "metadata": {
      "needs_background": "light"
     },
     "output_type": "display_data"
    }
   ],
   "source": [
    "#i번째 feature와 타겟 값 사이의 관계 시각화\n",
    "i=4\n",
    "plt.title(california.feature_names[i]+' & ' + 'target')\n",
    "plt.xlabel(california.feature_names[i])\n",
    "plt.ylabel('target')\n",
    "plt.scatter(DF[california.feature_names[i]],Y)\n",
    "plt.legend()\n",
    "plt.show()"
   ]
  },
  {
   "cell_type": "code",
   "execution_count": null,
   "metadata": {},
   "outputs": [],
   "source": []
  }
 ],
 "metadata": {
  "kernelspec": {
   "display_name": "machinelearning",
   "language": "python",
   "name": "machinelearning"
  },
  "language_info": {
   "codemirror_mode": {
    "name": "ipython",
    "version": 3
   },
   "file_extension": ".py",
   "mimetype": "text/x-python",
   "name": "python",
   "nbconvert_exporter": "python",
   "pygments_lexer": "ipython3",
   "version": "3.6.6"
  }
 },
 "nbformat": 4,
 "nbformat_minor": 2
}
