{
 "cells": [
  {
   "cell_type": "markdown",
   "metadata": {},
   "source": [
    "## 2016313844\n",
    "## Jeonghoon Park"
   ]
  },
  {
   "cell_type": "code",
   "execution_count": 2,
   "metadata": {},
   "outputs": [],
   "source": [
    "from sklearn.linear_model import LinearRegression\n",
    "import pandas as pd\n",
    "import numpy as np\n",
    "from matplotlib import pyplot as plt\n",
    "from sklearn.linear_model import Ridge, Lasso"
   ]
  },
  {
   "cell_type": "code",
   "execution_count": 3,
   "metadata": {},
   "outputs": [
    {
     "name": "stdout",
     "output_type": "stream",
     "text": [
      "       MedInc  HouseAge  AveRooms  AveBedrms  Population  AveOccup  Latitude  \\\n",
      "0      8.3252      41.0  6.984127   1.023810       322.0  2.555556     37.88   \n",
      "1      8.3014      21.0  6.238137   0.971880      2401.0  2.109842     37.86   \n",
      "2      7.2574      52.0  8.288136   1.073446       496.0  2.802260     37.85   \n",
      "3      5.6431      52.0  5.817352   1.073059       558.0  2.547945     37.85   \n",
      "4      3.8462      52.0  6.281853   1.081081       565.0  2.181467     37.85   \n",
      "...       ...       ...       ...        ...         ...       ...       ...   \n",
      "20635  1.5603      25.0  5.045455   1.133333       845.0  2.560606     39.48   \n",
      "20636  2.5568      18.0  6.114035   1.315789       356.0  3.122807     39.49   \n",
      "20637  1.7000      17.0  5.205543   1.120092      1007.0  2.325635     39.43   \n",
      "20638  1.8672      18.0  5.329513   1.171920       741.0  2.123209     39.43   \n",
      "20639  2.3886      16.0  5.254717   1.162264      1387.0  2.616981     39.37   \n",
      "\n",
      "       Longitude  \n",
      "0        -122.23  \n",
      "1        -122.22  \n",
      "2        -122.24  \n",
      "3        -122.25  \n",
      "4        -122.25  \n",
      "...          ...  \n",
      "20635    -121.09  \n",
      "20636    -121.21  \n",
      "20637    -121.22  \n",
      "20638    -121.32  \n",
      "20639    -121.24  \n",
      "\n",
      "[20640 rows x 8 columns]\n"
     ]
    }
   ],
   "source": [
    "from sklearn.datasets import fetch_california_housing\n",
    "\n",
    "california = fetch_california_housing()\n",
    "X=california.data\n",
    "DF=pd.DataFrame(X,columns=california.feature_names)\n",
    "Y=california.target\n",
    "print(DF)"
   ]
  },
  {
   "cell_type": "code",
   "execution_count": 4,
   "metadata": {},
   "outputs": [
    {
     "name": "stdout",
     "output_type": "stream",
     "text": [
      "coef\n",
      "[ 4.36594382e-01  9.43739513e-03 -1.07132761e-01  6.44062485e-01\n",
      " -3.97034295e-06 -3.78635869e-03 -4.21299306e-01 -4.34484717e-01]\n",
      "intercept\n",
      "-36.93858523232896\n"
     ]
    }
   ],
   "source": [
    "# We can get various regression models controlling the alpha values\n",
    "ALPHA=1\n",
    "\n",
    "rid=Ridge(alpha=ALPHA)\n",
    "Model=rid.fit(X,Y)\n",
    "print(\"coef\")\n",
    "print(Model.coef_)\n",
    "print(\"intercept\")\n",
    "print(Model.intercept_)"
   ]
  },
  {
   "cell_type": "code",
   "execution_count": 5,
   "metadata": {},
   "outputs": [
    {
     "name": "stdout",
     "output_type": "stream",
     "text": [
      "coef\n",
      "[ 1.45469232e-01  5.81496884e-03  0.00000000e+00 -0.00000000e+00\n",
      " -6.37292607e-06 -0.00000000e+00 -0.00000000e+00 -0.00000000e+00]\n",
      "intercept\n",
      "1.3480413673416143\n"
     ]
    }
   ],
   "source": [
    "ALPHA=1\n",
    "\n",
    "las=Lasso(alpha=ALPHA)\n",
    "Model=las.fit(X,Y)\n",
    "print(\"coef\")\n",
    "print(Model.coef_)\n",
    "print(\"intercept\")\n",
    "print(Model.intercept_)"
   ]
  },
  {
   "cell_type": "code",
   "execution_count": 10,
   "metadata": {},
   "outputs": [
    {
     "name": "stdout",
     "output_type": "stream",
     "text": [
      "['MedInc', 'HouseAge', 'Latitude', 'Longitude', 'AveBedrms', 'AveRooms', 'AveOccup']\n"
     ]
    }
   ],
   "source": [
    "import statsmodels.api as sm\n",
    "\n",
    "# Define forward selection: It adds variables one by one until minimum p-value is getting bigger than cutoff-value\n",
    "# We can varies the cutoff values to  control the learning.\n",
    "def forward_selection(data,target,cutoff=0.05):\n",
    "    initial_features = data.columns.tolist()\n",
    "    best_features = []\n",
    "    while(len(initial_features)>0):\n",
    "        remaining_features = list(set(initial_features)-set(best_features))\n",
    "        new_pval = pd.Series(index=remaining_features, dtype='float64')\n",
    "        for new_column in remaining_features:\n",
    "            #sm.OLS : statsmodel.formula.api.OLS(formula)\n",
    "            #Create a model from a formula and dataframe\n",
    "            #sm.add_constant : statsmodel.tools.tools.add_constant(data)\n",
    "            #Add a column of ones to an array, return array_like\n",
    "            model = sm.OLS(target, sm.add_constant(data[best_features+[new_column]])).fit()\n",
    "            new_pval[new_column] = model.pvalues[new_column]\n",
    "        min_p_value = new_pval.min()\n",
    "        if(min_p_value < cutoff):\n",
    "            best_features.append(new_pval.idxmin())\n",
    "        else:\n",
    "            break\n",
    "    return best_features\n",
    "\n",
    "# What is the mieaning of 'Y' on parameter 'target'\n",
    "forwarddata=forward_selection(DF,Y,0.01)\n",
    "print(forwarddata)"
   ]
  },
  {
   "cell_type": "code",
   "execution_count": 7,
   "metadata": {},
   "outputs": [
    {
     "name": "stdout",
     "output_type": "stream",
     "text": [
      "['MedInc', 'HouseAge', 'AveRooms', 'AveBedrms', 'AveOccup', 'Latitude', 'Longitude']\n"
     ]
    }
   ],
   "source": [
    "# Define backward elimination : It erases variables one by one from the full model, until p-value is lower than cutoff-value.\n",
    "# We can varies the cutoff values to control the learning.\n",
    "def backward_elimination(data, target, cutoff= 0.05):\n",
    "    features = data.columns.tolist()\n",
    "    while(len(features) > 0):\n",
    "        features_with_constant = sm.add_constant(data[features])\n",
    "        p_values = sm.OLS(target, features_with_constant).fit().pvalues[1:]\n",
    "        max_p_value = p_values.max()\n",
    "        if(max_p_value >= cutoff):\n",
    "            excluded_feature=p_values.idxmax()\n",
    "            features.remove(excluded_feature)\n",
    "        else:\n",
    "            break\n",
    "    return features\n",
    "\n",
    "backwarddata=backward_elimination(DF,Y,0.01)\n",
    "print(backwarddata)"
   ]
  },
  {
   "cell_type": "code",
   "execution_count": 11,
   "metadata": {},
   "outputs": [
    {
     "name": "stdout",
     "output_type": "stream",
     "text": [
      "['MedInc', 'HouseAge', 'Latitude', 'Longitude', 'AveBedrms', 'AveRooms', 'AveOccup']\n"
     ]
    }
   ],
   "source": [
    "# Define stepwise selection : It iterates with the way combining Backward and Forward selection.\n",
    "def stepwise_selection(data,target,cutoff):\n",
    "    initial_features = data.columns.tolist()\n",
    "    best_features = []\n",
    "    while(len(initial_features) > 0):\n",
    "        remaining_features = list(set(initial_features)-set(best_features))\n",
    "        new_pval = pd.Series(index=remaining_features, dtype='float64')\n",
    "        for new_column in remaining_features:\n",
    "            model = sm.OLS(target, sm.add_constant(data[best_features+[new_column]])).fit()\n",
    "            new_pval[new_column] = model.pvalues[new_column]\n",
    "        min_p_value = new_pval.min()\n",
    "        if(min_p_value < cutoff):\n",
    "            best_features.append(new_pval.idxmin())\n",
    "            while(len(best_features) > 0):\n",
    "                best_features_with_constant = sm.add_constant(data[best_features])\n",
    "                p_values = sm.OLS(target, best_features_with_constant).fit().pvalues[1:]\n",
    "                max_p_value = p_values.max()\n",
    "                if(max_p_value >= cutoff):\n",
    "                    excluded_feature=p_values.idxmax()\n",
    "                    best_features.remove(excluded_feature)\n",
    "                else:\n",
    "                    break\n",
    "        else:\n",
    "            break\n",
    "    return best_features\n",
    "\n",
    "stepdata=stepwise_selection(DF,Y,0.01)\n",
    "print(stepdata)"
   ]
  },
  {
   "cell_type": "code",
   "execution_count": 12,
   "metadata": {},
   "outputs": [
    {
     "name": "stderr",
     "output_type": "stream",
     "text": [
      "No handles with labels found to put in legend.\n"
     ]
    },
    {
     "data": {
      "image/png": "[encoded data removed]",
      "text/plain": [
       "<Figure size 432x288 with 1 Axes>"
      ]
     },
     "metadata": {
      "needs_background": "light"
     },
     "output_type": "display_data"
    }
   ],
   "source": [
    "# Visualize the relationship with ith feature and the targer value.\n",
    "i=4\n",
    "plt.title(california.feature_names[i]+' & ' + 'target')\n",
    "plt.xlabel(california.feature_names[i])\n",
    "plt.ylabel('target')\n",
    "plt.scatter(DF[california.feature_names[i]],Y)\n",
    "plt.legend()\n",
    "plt.show()"
   ]
  },
  {
   "cell_type": "code",
   "execution_count": null,
   "metadata": {},
   "outputs": [],
   "source": []
  }
 ],
 "metadata": {
  "kernelspec": {
   "display_name": "machinelearning",
   "language": "python",
   "name": "machinelearning"
  },
  "language_info": {
   "codemirror_mode": {
    "name": "ipython",
    "version": 3
   },
   "file_extension": ".py",
   "mimetype": "text/x-python",
   "name": "python",
   "nbconvert_exporter": "python",
   "pygments_lexer": "ipython3",
   "version": "3.7.7"
  }
 },
 "nbformat": 4,
 "nbformat_minor": 4
}
